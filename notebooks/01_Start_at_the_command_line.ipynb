{
 "cells": [
	{
	 "cell_type": "markdown",
	 "metadata": {
		"deletable": true,
		"editable": true
	 },
	 "source": [
		"# Introduction to the command-line interface\n",
		"\n",
		"> **Credits:**\n",
		"https://tutorial.djangogirls.org/en/intro_to_command_line/\n",
		"\n",
		"> This chapter is also covered in the [Your new friend: Command Line](https://www.youtube.com/watch?v=jvZLWhkzX-8) video."
	 ],
	},
 ],
 "metadata": {
	"kernelspec": {
	 "display_name": "Python 3",
	 "language": "python",
	 "name": "python3"
	},
	"language_info": {
	 "codemirror_mode": {
		"name": "ipython",
		"version": 3
	 },
	 "file_extension": ".py",
	 "mimetype": "text/x-python",
	 "name": "python",
	 "nbconvert_exporter": "python",
	 "pygments_lexer": "ipython3",
	 "version": "3.4.3"
	}
 },
 "nbformat": 4,
 "nbformat_minor": 2
}
